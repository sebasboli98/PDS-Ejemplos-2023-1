{
 "cells": [
  {
   "cell_type": "markdown",
   "id": "9406328a",
   "metadata": {},
   "source": [
    "### En este código, después de calcular la transformada z utilizando la función fft de NumPy para encontrar la matriz de números complejos que representa la transformada de la señal. Ademas se encuentra la ROC para la secuencia finita."
   ]
  },
  {
   "cell_type": "code",
   "execution_count": 2,
   "id": "cbd207fc",
   "metadata": {},
   "outputs": [
    {
     "name": "stdout",
     "output_type": "stream",
     "text": [
      "Ingresa una cadena de números: 356002115\n",
      "Ingresa la posición origen de la cadena: 0\n",
      "La transformada z de la cadena es: [23.        +0.j          9.49659643-3.37397307j -0.80927768-3.86170134j\n",
      " -5.5       +6.06217783j -1.18731875+2.11034795j -1.18731875-2.11034795j\n",
      " -5.5       -6.06217783j -0.80927768+3.86170134j  9.49659643+3.37397307j]\n",
      "La región de convergencia es plano z excepto z=0\n"
     ]
    }
   ],
   "source": [
    "import numpy as np\n",
    "\n",
    "\n",
    "# Pedir al usuario que ingrese la cadena de números\n",
    "cadena = input(\"Ingresa una cadena de números: \")\n",
    "\n",
    "# Pedir al usuario que ingrese la posición origen de la cadena\n",
    "origen = int(input(\"Ingresa la posición origen de la cadena: \"))\n",
    "\n",
    "# Convertir la cadena en una lista de números\n",
    "numeros = [int(c) for c in cadena]\n",
    "\n",
    "# Calcular la transformada z utilizando la función fft de NumPy\n",
    "transformada = np.fft.fft(numeros)\n",
    "\n",
    "# Imprimir la transformada z\n",
    "print(\"La transformada z de la cadena es:\", transformada)\n",
    "\n",
    "# Calcular la región de convergencia\n",
    "if origen > 0:\n",
    "    print(\"La región de convergencia es plano z excepto z=0 y z=infinito\")\n",
    "else:\n",
    "    print(\"La región de convergencia es plano z excepto z=0\")"
   ]
  },
  {
   "cell_type": "code",
   "execution_count": null,
   "id": "aedfadc6",
   "metadata": {},
   "outputs": [],
   "source": []
  }
 ],
 "metadata": {
  "kernelspec": {
   "display_name": "Python 3 (ipykernel)",
   "language": "python",
   "name": "python3"
  },
  "language_info": {
   "codemirror_mode": {
    "name": "ipython",
    "version": 3
   },
   "file_extension": ".py",
   "mimetype": "text/x-python",
   "name": "python",
   "nbconvert_exporter": "python",
   "pygments_lexer": "ipython3",
   "version": "3.9.12"
  }
 },
 "nbformat": 4,
 "nbformat_minor": 5
}
