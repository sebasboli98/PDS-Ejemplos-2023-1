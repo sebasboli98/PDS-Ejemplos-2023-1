{
 "cells": [
  {
   "cell_type": "markdown",
   "id": "de273b99",
   "metadata": {},
   "source": [
    "### Se calcula la transformada Z de la secuencia sin especificar la posición del cero. En su lugar, la función comienza a calcular la transformada Z desde la posición 0 y va aumentando el exponente del término en función del índice del elemento de la secuencia."
   ]
  },
  {
   "cell_type": "code",
   "execution_count": 9,
   "id": "68d9c730",
   "metadata": {},
   "outputs": [
    {
     "name": "stdout",
     "output_type": "stream",
     "text": [
      "X(0) = 3\n",
      "X(1) = 2/Z\n",
      "X(2) = Z**(-2)\n",
      "X(3) = 3/Z**3\n",
      "X(4) = 2/Z**4\n"
     ]
    }
   ],
   "source": [
    "from sympy import Symbol\n",
    "import numpy as np\n",
    "\n",
    "def transZsec(arr):\n",
    "    # La función recibe un arreglo que es al cual se le va a sacar la\n",
    "    # transformada.\n",
    "    Z = Symbol('Z')\n",
    "    pot = 0\n",
    "    X = []\n",
    "    for i in arr:\n",
    "        X.append(i*np.power(Z, -pot))\n",
    "        pot += 1\n",
    "    return X\n",
    "\n",
    "# Ejemplo de uso\n",
    "arr = np.array([3, 2, 1, 3, 2])\n",
    "arr_trans = transZsec(arr)\n",
    "for i in range(len(arr_trans)):\n",
    "    print(f'X({i}) =', arr_trans[i])\n",
    "    "
   ]
  }
 ],
 "metadata": {
  "kernelspec": {
   "display_name": "Python 3 (ipykernel)",
   "language": "python",
   "name": "python3"
  },
  "language_info": {
   "codemirror_mode": {
    "name": "ipython",
    "version": 3
   },
   "file_extension": ".py",
   "mimetype": "text/x-python",
   "name": "python",
   "nbconvert_exporter": "python",
   "pygments_lexer": "ipython3",
   "version": "3.9.12"
  }
 },
 "nbformat": 4,
 "nbformat_minor": 5
}
