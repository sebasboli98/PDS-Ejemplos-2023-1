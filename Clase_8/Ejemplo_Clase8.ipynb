{
 "cells": [
  {
   "cell_type": "markdown",
   "id": "6d0a8ea0",
   "metadata": {},
   "source": [
    "### En este ejemplo, la función de transferencia es s + 2 / s^2 + 4s + 4, que se puede expresar como [1, 2] / [1, 4, 4] en Python. La función pole_zero_plot() se encarga de graficar únicamente el diagrama de polos y ceros de la función de transferencia."
   ]
  },
  {
   "cell_type": "code",
   "execution_count": 3,
   "id": "434aec76",
   "metadata": {},
   "outputs": [],
   "source": [
    "import numpy as np\n",
    "import matplotlib.pyplot as plt\n",
    "from scipy import signal\n",
    "\n",
    "def pole_zero_plot(num, den):\n",
    "    # Obtener los polos y ceros del sistema\n",
    "    sys = signal.TransferFunction(num, den)\n",
    "    zeros = sys.zeros\n",
    "    poles = sys.poles\n",
    "\n",
    "    # Graficar el diagrama de polos y ceros\n",
    "    plt.plot(zeros.real, zeros.imag, 'o', color='blue', label='Ceros')\n",
    "    plt.plot(poles.real, poles.imag, 'x', color='red', label='Polos')\n",
    "    plt.xlabel('Parte real')\n",
    "    plt.ylabel('Parte imaginaria')\n",
    "    plt.grid()\n",
    "    plt.legend()\n",
    "    plt.show()"
   ]
  },
  {
   "cell_type": "code",
   "execution_count": 5,
   "id": "dea45573",
   "metadata": {
    "scrolled": true
   },
   "outputs": [
    {
     "data": {
      "image/png": "[encoded data removed]",
      "text/plain": [
       "<Figure size 432x288 with 1 Axes>"
      ]
     },
     "metadata": {
      "needs_background": "light"
     },
     "output_type": "display_data"
    }
   ],
   "source": [
    "# Definir la función de transferencia del sistema\n",
    "num = [1, 2]\n",
    "den = [1, 4, 4]\n",
    "\n",
    "# Generar el gráfico de polos y ceros de la función de transferencia\n",
    "pole_zero_plot(num, den)"
   ]
  },
  {
   "cell_type": "code",
   "execution_count": null,
   "id": "9ac35c82",
   "metadata": {},
   "outputs": [],
   "source": []
  }
 ],
 "metadata": {
  "kernelspec": {
   "display_name": "Python 3 (ipykernel)",
   "language": "python",
   "name": "python3"
  },
  "language_info": {
   "codemirror_mode": {
    "name": "ipython",
    "version": 3
   },
   "file_extension": ".py",
   "mimetype": "text/x-python",
   "name": "python",
   "nbconvert_exporter": "python",
   "pygments_lexer": "ipython3",
   "version": "3.9.12"
  }
 },
 "nbformat": 4,
 "nbformat_minor": 5
}
